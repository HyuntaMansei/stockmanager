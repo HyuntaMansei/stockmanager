{
 "cells": [
  {
   "cell_type": "code",
   "execution_count": 1,
   "metadata": {},
   "outputs": [],
   "source": [
    "from IPython.core.interactiveshell import InteractiveShell\n",
    "InteractiveShell.ast_node_interactivity = 'all'"
   ]
  },
  {
   "cell_type": "code",
   "execution_count": 2,
   "metadata": {},
   "outputs": [],
   "source": [
    "from pykiwoom.kiwoom import Kiwoom\n",
    "\n",
    "kiwoom = Kiwoom()\n",
    "kiwoom.CommConnect()"
   ]
  },
  {
   "cell_type": "code",
   "execution_count": 3,
   "metadata": {},
   "outputs": [
    {
     "name": "stdout",
     "output_type": "stream",
     "text": [
      "hahaha\n"
     ]
    }
   ],
   "source": [
    "from kiwoom_manager import KiwoomManager\n",
    "km = KiwoomManager(kiwoom)"
   ]
  },
  {
   "cell_type": "code",
   "execution_count": 9,
   "metadata": {},
   "outputs": [
    {
     "data": {
      "text/plain": [
       "<module 'kiwoom_manager' from 'c:\\\\Users\\\\jchoi\\\\Coding\\\\python\\\\stockmanager\\\\kiwoom_manager.py'>"
      ]
     },
     "execution_count": 9,
     "metadata": {},
     "output_type": "execute_result"
    }
   ],
   "source": [
    "import kiwoom_manager\n",
    "import importlib\n",
    "importlib.reload(kiwoom_manager)"
   ]
  },
  {
   "cell_type": "code",
   "execution_count": 10,
   "metadata": {},
   "outputs": [
    {
     "name": "stdout",
     "output_type": "stream",
     "text": [
      "hahaha\n",
      "hahaha222\n"
     ]
    }
   ],
   "source": [
    "km2 = kiwoom_manager.KiwoomManager(kiwoom)"
   ]
  },
  {
   "cell_type": "code",
   "execution_count": 11,
   "metadata": {},
   "outputs": [
    {
     "data": {
      "text/plain": [
       "<module 'kiwoom_manager' from 'c:\\\\Users\\\\jchoi\\\\Coding\\\\python\\\\stockmanager\\\\kiwoom_manager.py'>"
      ]
     },
     "execution_count": 11,
     "metadata": {},
     "output_type": "execute_result"
    },
    {
     "name": "stdout",
     "output_type": "stream",
     "text": [
      "hahaha\n",
      "hahaha222\n",
      "hahaha333\n"
     ]
    }
   ],
   "source": [
    "importlib.reload(kiwoom_manager)\n",
    "km3 = kiwoom_manager.KiwoomManager(kiwoom)"
   ]
  },
  {
   "cell_type": "code",
   "execution_count": null,
   "metadata": {},
   "outputs": [],
   "source": [
    "km3.market_clas_dic\n",
    "km3.rev_market_clas_dic\n",
    "km3.stock_info\n"
   ]
  },
  {
   "cell_type": "code",
   "execution_count": 16,
   "metadata": {},
   "outputs": [
    {
     "data": {
      "text/plain": [
       "<module 'kiwoom_manager' from 'c:\\\\Users\\\\jchoi\\\\Coding\\\\python\\\\stockmanager\\\\kiwoom_manager.py'>"
      ]
     },
     "execution_count": 16,
     "metadata": {},
     "output_type": "execute_result"
    }
   ],
   "source": [
    "importlib.reload(kiwoom_manager)"
   ]
  },
  {
   "cell_type": "code",
   "execution_count": 23,
   "metadata": {},
   "outputs": [
    {
     "data": {
      "text/plain": [
       "<module 'kiwoom_manager' from 'c:\\\\Users\\\\jchoi\\\\Coding\\\\python\\\\stockmanager\\\\kiwoom_manager.py'>"
      ]
     },
     "execution_count": 23,
     "metadata": {},
     "output_type": "execute_result"
    }
   ],
   "source": [
    "importlib.reload(kiwoom_manager)"
   ]
  },
  {
   "cell_type": "code",
   "execution_count": null,
   "metadata": {},
   "outputs": [],
   "source": [
    "import dbmanager"
   ]
  },
  {
   "cell_type": "code",
   "execution_count": 63,
   "metadata": {},
   "outputs": [
    {
     "data": {
      "text/plain": [
       "<module 'dbmanager' from 'c:\\\\Users\\\\jchoi\\\\Coding\\\\python\\\\stockmanager\\\\dbmanager.py'>"
      ]
     },
     "execution_count": 63,
     "metadata": {},
     "output_type": "execute_result"
    }
   ],
   "source": [
    "importlib.reload(dbmanager)\n",
    "dbm = dbmanager.DbManager()"
   ]
  },
  {
   "cell_type": "code",
   "execution_count": 65,
   "metadata": {},
   "outputs": [
    {
     "name": "stdout",
     "output_type": "stream",
     "text": [
      "(('STOCK_BASIC_INFO_TB',),)\n"
     ]
    }
   ],
   "source": [
    "cnx = dbm.cnx\n",
    "cur = dbm.cur\n",
    "dbm.show_table()\n",
    "print(cur.fetchall())"
   ]
  },
  {
   "cell_type": "code",
   "execution_count": 58,
   "metadata": {},
   "outputs": [
    {
     "name": "stdout",
     "output_type": "stream",
     "text": [
      "(('STOCK_BASIC_INFO_TB',),)\n"
     ]
    }
   ],
   "source": []
  },
  {
   "cell_type": "code",
   "execution_count": 60,
   "metadata": {},
   "outputs": [],
   "source": []
  }
 ],
 "metadata": {
  "kernelspec": {
   "display_name": "py38_32",
   "language": "python",
   "name": "python3"
  },
  "language_info": {
   "codemirror_mode": {
    "name": "ipython",
    "version": 3
   },
   "file_extension": ".py",
   "mimetype": "text/x-python",
   "name": "python",
   "nbconvert_exporter": "python",
   "pygments_lexer": "ipython3",
   "version": "3.8.13"
  },
  "orig_nbformat": 4,
  "vscode": {
   "interpreter": {
    "hash": "930972ee892816caf64247a5e52b14447bba1810eb2f811ba6b6034d16dec76c"
   }
  }
 },
 "nbformat": 4,
 "nbformat_minor": 2
}

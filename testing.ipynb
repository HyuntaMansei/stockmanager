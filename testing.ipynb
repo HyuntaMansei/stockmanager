{
 "cells": [
  {
   "cell_type": "code",
   "execution_count": 1,
   "metadata": {},
   "outputs": [],
   "source": [
    "from IPython.core.interactiveshell import InteractiveShell\n",
    "InteractiveShell.ast_node_interactivity = 'all'"
   ]
  },
  {
   "cell_type": "code",
   "execution_count": 2,
   "metadata": {},
   "outputs": [],
   "source": [
    "from pykiwoom.kiwoom import Kiwoom\n",
    "kiwoom = Kiwoom()\n",
    "\n",
    "kiwoom.CommConnect()"
   ]
  },
  {
   "cell_type": "code",
   "execution_count": 8,
   "metadata": {},
   "outputs": [],
   "source": [
    "        #   [시장구분값]\n",
    "        #   0 : 코스피\n",
    "        #   10 : 코스닥\n",
    "        #   3 : ELW\n",
    "        #   8 : ETF\n",
    "        #   50 : KONEX\n",
    "        #   4 :  뮤추얼펀드\n",
    "        #   5 : 신주인수권\n",
    "        #   6 : 리츠\n",
    "        #   9 : 하이얼펀드\n",
    "        #   30 : K-OTC\n",
    "\n",
    "kospi_code_list = [] #ETN 제거 필요\n",
    "temp_kospi_code_list = kiwoom.GetCodeListByMarket('0') \n",
    "kosdaq_code_list = kiwoom.GetCodeListByMarket('10')\n",
    "etf_code_list = kiwoom.GetCodeListByMarket('8')\n",
    "reit_code_list = kiwoom.GetCodeListByMarket('6')\n",
    "etn_code_list = []\n"
   ]
  },
  {
   "cell_type": "code",
   "execution_count": 13,
   "metadata": {},
   "outputs": [],
   "source": [
    "#모든 종목에 대해서 종목명을 받아오자. \n",
    "code_list = temp_kospi_code_list + kosdaq_code_list + etf_code_list + reit_code_list\n",
    "name_list = []\n",
    "\n",
    "for c in code_list:\n",
    "    n = kiwoom.GetMasterCodeName(c)\n",
    "    if len(n) > 0:\n",
    "        name_list.append(n)\n"
   ]
  },
  {
   "cell_type": "code",
   "execution_count": 11,
   "metadata": {},
   "outputs": [],
   "source": []
  }
 ],
 "metadata": {
  "kernelspec": {
   "display_name": "py38_32",
   "language": "python",
   "name": "python3"
  },
  "language_info": {
   "codemirror_mode": {
    "name": "ipython",
    "version": 3
   },
   "file_extension": ".py",
   "mimetype": "text/x-python",
   "name": "python",
   "nbconvert_exporter": "python",
   "pygments_lexer": "ipython3",
   "version": "3.8.13"
  },
  "orig_nbformat": 4,
  "vscode": {
   "interpreter": {
    "hash": "cc500f9595c7036f5ab22c6000946e7ffae682aa3474b8d6dff2f35e682ba884"
   }
  }
 },
 "nbformat": 4,
 "nbformat_minor": 2
}
